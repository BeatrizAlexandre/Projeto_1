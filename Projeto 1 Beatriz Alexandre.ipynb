{
 "cells": [
  {
   "cell_type": "markdown",
   "metadata": {},
   "source": [
    "# Projeto 1 - Análise Exploratória\n",
    "\n",
    "## Beatriz Galassi Alexandre\n",
    "\n",
    "#### Indicadores: \n",
    "- IDH\n",
    "- Assasinatos\n",
    "- Área Florestal\n",
    "\n",
    "## Introdução\n",
    "Atualmente,os países mais desenvolvidos possuem um alto grau de industrialização e alto IDH (Índce de Desenvolvimento Humano) e minha hipótese é que estes países possuem uma área floresta pequena, com isso irei investigar a relação entre IDH e Área Florestal, e responder a seguinte pergunta: Isso me leva a primeira pergunta que é um país precisa ter uma menor área florestal e maior industrializada para ter alto IDH?\n",
    "\n",
    "Outra relação a qual irei investigar é entre o IDH e os assasinatos, pois me surgiu a curiosidade de saber se há relação entre estas variáveis. A partir disso, elaborei a seguinte pergnta: O IDH será sempre baixo caso o número de assasinatos sejam altos?\n",
    "\n",
    "\n",
    "#### Perguntas:\n",
    "- #### Um país precisa ter uma menor área florestal para ter alto IDH?\n",
    "* ####  O IDH será sempre baixo caso o número de assasinatos sejam altos?"
   ]
  },
  {
   "cell_type": "markdown",
   "metadata": {},
   "source": [
    "## Importando as bibliotecas"
   ]
  },
  {
   "cell_type": "code",
   "execution_count": 1,
   "metadata": {},
   "outputs": [],
   "source": [
    "%matplotlib inline\n",
    "import pandas as pd\n",
    "import numpy as np\n",
    "import math as math\n",
    "from scipy import stats\n",
    "import matplotlib.pyplot as plt\n",
    "import seaborn as sns"
   ]
  },
  {
   "cell_type": "markdown",
   "metadata": {},
   "source": [
    "## Apresentando os dados de um DataFrama"
   ]
  },
  {
   "cell_type": "markdown",
   "metadata": {
    "slideshow": {
     "slide_type": "slide"
    }
   },
   "source": [
    "- Dados IDH (Índice de Desenvolvimento Humano)"
   ]
  },
  {
   "cell_type": "code",
   "execution_count": 2,
   "metadata": {},
   "outputs": [
    {
     "data": {
      "text/html": [
       "<div>\n",
       "<style scoped>\n",
       "    .dataframe tbody tr th:only-of-type {\n",
       "        vertical-align: middle;\n",
       "    }\n",
       "\n",
       "    .dataframe tbody tr th {\n",
       "        vertical-align: top;\n",
       "    }\n",
       "\n",
       "    .dataframe thead th {\n",
       "        text-align: right;\n",
       "    }\n",
       "</style>\n",
       "<table border=\"1\" class=\"dataframe\">\n",
       "  <thead>\n",
       "    <tr style=\"text-align: right;\">\n",
       "      <th></th>\n",
       "      <th>geo</th>\n",
       "      <th>2004</th>\n",
       "    </tr>\n",
       "  </thead>\n",
       "  <tbody>\n",
       "    <tr>\n",
       "      <th>0</th>\n",
       "      <td>Afghanistan</td>\n",
       "      <td>0.396</td>\n",
       "    </tr>\n",
       "    <tr>\n",
       "      <th>1</th>\n",
       "      <td>Albania</td>\n",
       "      <td>0.685</td>\n",
       "    </tr>\n",
       "    <tr>\n",
       "      <th>2</th>\n",
       "      <td>Algeria</td>\n",
       "      <td>0.680</td>\n",
       "    </tr>\n",
       "    <tr>\n",
       "      <th>3</th>\n",
       "      <td>Andorra</td>\n",
       "      <td>NaN</td>\n",
       "    </tr>\n",
       "    <tr>\n",
       "      <th>4</th>\n",
       "      <td>Angola</td>\n",
       "      <td>0.426</td>\n",
       "    </tr>\n",
       "  </tbody>\n",
       "</table>\n",
       "</div>"
      ],
      "text/plain": [
       "           geo   2004\n",
       "0  Afghanistan  0.396\n",
       "1      Albania  0.685\n",
       "2      Algeria  0.680\n",
       "3      Andorra    NaN\n",
       "4       Angola  0.426"
      ]
     },
     "execution_count": 2,
     "metadata": {},
     "output_type": "execute_result"
    }
   ],
   "source": [
    "dados_IDH = pd.read_excel('hdi_human_development_index.xlsx')\n",
    "IDH_2004 = dados_IDH.loc[:,[\"geo\", 2004]]\n",
    "IDH_2004.head()"
   ]
  },
  {
   "cell_type": "markdown",
   "metadata": {},
   "source": [
    "- Dados Assasinatos (total de mortes)"
   ]
  },
  {
   "cell_type": "code",
   "execution_count": 3,
   "metadata": {},
   "outputs": [
    {
     "data": {
      "text/html": [
       "<div>\n",
       "<style scoped>\n",
       "    .dataframe tbody tr th:only-of-type {\n",
       "        vertical-align: middle;\n",
       "    }\n",
       "\n",
       "    .dataframe tbody tr th {\n",
       "        vertical-align: top;\n",
       "    }\n",
       "\n",
       "    .dataframe thead th {\n",
       "        text-align: right;\n",
       "    }\n",
       "</style>\n",
       "<table border=\"1\" class=\"dataframe\">\n",
       "  <thead>\n",
       "    <tr style=\"text-align: right;\">\n",
       "      <th></th>\n",
       "      <th>geo</th>\n",
       "      <th>2004</th>\n",
       "    </tr>\n",
       "  </thead>\n",
       "  <tbody>\n",
       "    <tr>\n",
       "      <th>0</th>\n",
       "      <td>Afghanistan</td>\n",
       "      <td>813</td>\n",
       "    </tr>\n",
       "    <tr>\n",
       "      <th>1</th>\n",
       "      <td>Albania</td>\n",
       "      <td>208</td>\n",
       "    </tr>\n",
       "    <tr>\n",
       "      <th>2</th>\n",
       "      <td>Algeria</td>\n",
       "      <td>3100</td>\n",
       "    </tr>\n",
       "    <tr>\n",
       "      <th>3</th>\n",
       "      <td>Andorra</td>\n",
       "      <td>1</td>\n",
       "    </tr>\n",
       "    <tr>\n",
       "      <th>4</th>\n",
       "      <td>Angola</td>\n",
       "      <td>6230</td>\n",
       "    </tr>\n",
       "  </tbody>\n",
       "</table>\n",
       "</div>"
      ],
      "text/plain": [
       "           geo  2004\n",
       "0  Afghanistan   813\n",
       "1      Albania   208\n",
       "2      Algeria  3100\n",
       "3      Andorra     1\n",
       "4       Angola  6230"
      ]
     },
     "execution_count": 3,
     "metadata": {},
     "output_type": "execute_result"
    }
   ],
   "source": [
    "dados_assasinatos = pd.read_excel('murder_total_deaths.xlsx')\n",
    "assasinatos_2004 = dados_assasinatos.loc[:,[\"geo\", 2004]]\n",
    "assasinatos_2004.head()"
   ]
  },
  {
   "cell_type": "markdown",
   "metadata": {},
   "source": [
    "- Dados Área Florestal (km²)"
   ]
  },
  {
   "cell_type": "code",
   "execution_count": 4,
   "metadata": {},
   "outputs": [
    {
     "data": {
      "text/html": [
       "<div>\n",
       "<style scoped>\n",
       "    .dataframe tbody tr th:only-of-type {\n",
       "        vertical-align: middle;\n",
       "    }\n",
       "\n",
       "    .dataframe tbody tr th {\n",
       "        vertical-align: top;\n",
       "    }\n",
       "\n",
       "    .dataframe thead th {\n",
       "        text-align: right;\n",
       "    }\n",
       "</style>\n",
       "<table border=\"1\" class=\"dataframe\">\n",
       "  <thead>\n",
       "    <tr style=\"text-align: right;\">\n",
       "      <th></th>\n",
       "      <th>geo</th>\n",
       "      <th>2004</th>\n",
       "    </tr>\n",
       "  </thead>\n",
       "  <tbody>\n",
       "    <tr>\n",
       "      <th>0</th>\n",
       "      <td>Afghanistan</td>\n",
       "      <td>13500.0</td>\n",
       "    </tr>\n",
       "    <tr>\n",
       "      <th>1</th>\n",
       "      <td>Albania</td>\n",
       "      <td>7800.0</td>\n",
       "    </tr>\n",
       "    <tr>\n",
       "      <th>2</th>\n",
       "      <td>Algeria</td>\n",
       "      <td>15400.0</td>\n",
       "    </tr>\n",
       "    <tr>\n",
       "      <th>3</th>\n",
       "      <td>Andorra</td>\n",
       "      <td>160.0</td>\n",
       "    </tr>\n",
       "    <tr>\n",
       "      <th>4</th>\n",
       "      <td>Angola</td>\n",
       "      <td>592000.0</td>\n",
       "    </tr>\n",
       "  </tbody>\n",
       "</table>\n",
       "</div>"
      ],
      "text/plain": [
       "           geo      2004\n",
       "0  Afghanistan   13500.0\n",
       "1      Albania    7800.0\n",
       "2      Algeria   15400.0\n",
       "3      Andorra     160.0\n",
       "4       Angola  592000.0"
      ]
     },
     "execution_count": 4,
     "metadata": {},
     "output_type": "execute_result"
    }
   ],
   "source": [
    "dados_area_florestal = pd.read_excel('forest_area_sq_km.xlsx')\n",
    "area_florestal_2004 = dados_area_florestal.loc[:,[\"geo\", 2004]]\n",
    "area_florestal_2004.head()"
   ]
  },
  {
   "cell_type": "markdown",
   "metadata": {},
   "source": [
    "## Mudando os índices"
   ]
  },
  {
   "cell_type": "markdown",
   "metadata": {},
   "source": [
    "A mudança de índice foi realizada para que a primeira coluna do DataFrame fosse os países"
   ]
  },
  {
   "cell_type": "code",
   "execution_count": 5,
   "metadata": {
    "slideshow": {
     "slide_type": "slide"
    }
   },
   "outputs": [
    {
     "data": {
      "text/html": [
       "<div>\n",
       "<style scoped>\n",
       "    .dataframe tbody tr th:only-of-type {\n",
       "        vertical-align: middle;\n",
       "    }\n",
       "\n",
       "    .dataframe tbody tr th {\n",
       "        vertical-align: top;\n",
       "    }\n",
       "\n",
       "    .dataframe thead th {\n",
       "        text-align: right;\n",
       "    }\n",
       "</style>\n",
       "<table border=\"1\" class=\"dataframe\">\n",
       "  <thead>\n",
       "    <tr style=\"text-align: right;\">\n",
       "      <th></th>\n",
       "      <th>2004</th>\n",
       "    </tr>\n",
       "    <tr>\n",
       "      <th>geo</th>\n",
       "      <th></th>\n",
       "    </tr>\n",
       "  </thead>\n",
       "  <tbody>\n",
       "    <tr>\n",
       "      <th>Afghanistan</th>\n",
       "      <td>0.396</td>\n",
       "    </tr>\n",
       "    <tr>\n",
       "      <th>Albania</th>\n",
       "      <td>0.685</td>\n",
       "    </tr>\n",
       "    <tr>\n",
       "      <th>Algeria</th>\n",
       "      <td>0.680</td>\n",
       "    </tr>\n",
       "    <tr>\n",
       "      <th>Andorra</th>\n",
       "      <td>NaN</td>\n",
       "    </tr>\n",
       "    <tr>\n",
       "      <th>Angola</th>\n",
       "      <td>0.426</td>\n",
       "    </tr>\n",
       "    <tr>\n",
       "      <th>Antigua and Barbuda</th>\n",
       "      <td>NaN</td>\n",
       "    </tr>\n",
       "    <tr>\n",
       "      <th>Argentina</th>\n",
       "      <td>0.780</td>\n",
       "    </tr>\n",
       "    <tr>\n",
       "      <th>Armenia</th>\n",
       "      <td>0.679</td>\n",
       "    </tr>\n",
       "    <tr>\n",
       "      <th>Australia</th>\n",
       "      <td>0.910</td>\n",
       "    </tr>\n",
       "    <tr>\n",
       "      <th>Austria</th>\n",
       "      <td>0.848</td>\n",
       "    </tr>\n",
       "  </tbody>\n",
       "</table>\n",
       "</div>"
      ],
      "text/plain": [
       "                      2004\n",
       "geo                       \n",
       "Afghanistan          0.396\n",
       "Albania              0.685\n",
       "Algeria              0.680\n",
       "Andorra                NaN\n",
       "Angola               0.426\n",
       "Antigua and Barbuda    NaN\n",
       "Argentina            0.780\n",
       "Armenia              0.679\n",
       "Australia            0.910\n",
       "Austria              0.848"
      ]
     },
     "execution_count": 5,
     "metadata": {},
     "output_type": "execute_result"
    }
   ],
   "source": [
    "IDH_idx = IDH_2004.set_index('geo')\n",
    "IDH_idx.head(10)"
   ]
  },
  {
   "cell_type": "code",
   "execution_count": 6,
   "metadata": {},
   "outputs": [
    {
     "data": {
      "text/html": [
       "<div>\n",
       "<style scoped>\n",
       "    .dataframe tbody tr th:only-of-type {\n",
       "        vertical-align: middle;\n",
       "    }\n",
       "\n",
       "    .dataframe tbody tr th {\n",
       "        vertical-align: top;\n",
       "    }\n",
       "\n",
       "    .dataframe thead th {\n",
       "        text-align: right;\n",
       "    }\n",
       "</style>\n",
       "<table border=\"1\" class=\"dataframe\">\n",
       "  <thead>\n",
       "    <tr style=\"text-align: right;\">\n",
       "      <th></th>\n",
       "      <th>2004_Assasinatos</th>\n",
       "    </tr>\n",
       "    <tr>\n",
       "      <th>geo</th>\n",
       "      <th></th>\n",
       "    </tr>\n",
       "  </thead>\n",
       "  <tbody>\n",
       "    <tr>\n",
       "      <th>Afghanistan</th>\n",
       "      <td>813</td>\n",
       "    </tr>\n",
       "    <tr>\n",
       "      <th>Albania</th>\n",
       "      <td>208</td>\n",
       "    </tr>\n",
       "    <tr>\n",
       "      <th>Algeria</th>\n",
       "      <td>3100</td>\n",
       "    </tr>\n",
       "    <tr>\n",
       "      <th>Andorra</th>\n",
       "      <td>1</td>\n",
       "    </tr>\n",
       "    <tr>\n",
       "      <th>Angola</th>\n",
       "      <td>6230</td>\n",
       "    </tr>\n",
       "  </tbody>\n",
       "</table>\n",
       "</div>"
      ],
      "text/plain": [
       "             2004_Assasinatos\n",
       "geo                          \n",
       "Afghanistan               813\n",
       "Albania                   208\n",
       "Algeria                  3100\n",
       "Andorra                     1\n",
       "Angola                   6230"
      ]
     },
     "execution_count": 6,
     "metadata": {},
     "output_type": "execute_result"
    }
   ],
   "source": [
    "assasinatos_idx = assasinatos_2004.set_index('geo').add_suffix('_Assasinatos')\n",
    "assasinatos_idx.head()"
   ]
  },
  {
   "cell_type": "code",
   "execution_count": 7,
   "metadata": {
    "scrolled": true
   },
   "outputs": [
    {
     "data": {
      "text/html": [
       "<div>\n",
       "<style scoped>\n",
       "    .dataframe tbody tr th:only-of-type {\n",
       "        vertical-align: middle;\n",
       "    }\n",
       "\n",
       "    .dataframe tbody tr th {\n",
       "        vertical-align: top;\n",
       "    }\n",
       "\n",
       "    .dataframe thead th {\n",
       "        text-align: right;\n",
       "    }\n",
       "</style>\n",
       "<table border=\"1\" class=\"dataframe\">\n",
       "  <thead>\n",
       "    <tr style=\"text-align: right;\">\n",
       "      <th></th>\n",
       "      <th>2004</th>\n",
       "    </tr>\n",
       "    <tr>\n",
       "      <th>geo</th>\n",
       "      <th></th>\n",
       "    </tr>\n",
       "  </thead>\n",
       "  <tbody>\n",
       "    <tr>\n",
       "      <th>Afghanistan</th>\n",
       "      <td>13500.0</td>\n",
       "    </tr>\n",
       "    <tr>\n",
       "      <th>Albania</th>\n",
       "      <td>7800.0</td>\n",
       "    </tr>\n",
       "    <tr>\n",
       "      <th>Algeria</th>\n",
       "      <td>15400.0</td>\n",
       "    </tr>\n",
       "    <tr>\n",
       "      <th>Andorra</th>\n",
       "      <td>160.0</td>\n",
       "    </tr>\n",
       "    <tr>\n",
       "      <th>Angola</th>\n",
       "      <td>592000.0</td>\n",
       "    </tr>\n",
       "    <tr>\n",
       "      <th>Antigua and Barbuda</th>\n",
       "      <td>98.4</td>\n",
       "    </tr>\n",
       "    <tr>\n",
       "      <th>Argentina</th>\n",
       "      <td>305000.0</td>\n",
       "    </tr>\n",
       "    <tr>\n",
       "      <th>Armenia</th>\n",
       "      <td>3320.0</td>\n",
       "    </tr>\n",
       "    <tr>\n",
       "      <th>Australia</th>\n",
       "      <td>1280000.0</td>\n",
       "    </tr>\n",
       "    <tr>\n",
       "      <th>Austria</th>\n",
       "      <td>38500.0</td>\n",
       "    </tr>\n",
       "  </tbody>\n",
       "</table>\n",
       "</div>"
      ],
      "text/plain": [
       "                          2004\n",
       "geo                           \n",
       "Afghanistan            13500.0\n",
       "Albania                 7800.0\n",
       "Algeria                15400.0\n",
       "Andorra                  160.0\n",
       "Angola                592000.0\n",
       "Antigua and Barbuda       98.4\n",
       "Argentina             305000.0\n",
       "Armenia                 3320.0\n",
       "Australia            1280000.0\n",
       "Austria                38500.0"
      ]
     },
     "execution_count": 7,
     "metadata": {},
     "output_type": "execute_result"
    }
   ],
   "source": [
    "area_florestal_idx = area_florestal_2004.set_index('geo')\n",
    "area_florestal_idx.head(10)"
   ]
  },
  {
   "cell_type": "markdown",
   "metadata": {},
   "source": [
    "## Juntando os dados em um único DataFrame"
   ]
  },
  {
   "cell_type": "code",
   "execution_count": 8,
   "metadata": {},
   "outputs": [],
   "source": [
    "dados=IDH_idx.join(area_florestal_idx, how='inner', lsuffix='_IDH', rsuffix='_Area_f(km²)')"
   ]
  },
  {
   "cell_type": "code",
   "execution_count": 9,
   "metadata": {},
   "outputs": [
    {
     "data": {
      "text/html": [
       "<div>\n",
       "<style scoped>\n",
       "    .dataframe tbody tr th:only-of-type {\n",
       "        vertical-align: middle;\n",
       "    }\n",
       "\n",
       "    .dataframe tbody tr th {\n",
       "        vertical-align: top;\n",
       "    }\n",
       "\n",
       "    .dataframe thead th {\n",
       "        text-align: right;\n",
       "    }\n",
       "</style>\n",
       "<table border=\"1\" class=\"dataframe\">\n",
       "  <thead>\n",
       "    <tr style=\"text-align: right;\">\n",
       "      <th></th>\n",
       "      <th>2004_IDH</th>\n",
       "      <th>2004_Area_f(km²)</th>\n",
       "    </tr>\n",
       "    <tr>\n",
       "      <th>geo</th>\n",
       "      <th></th>\n",
       "      <th></th>\n",
       "    </tr>\n",
       "  </thead>\n",
       "  <tbody>\n",
       "    <tr>\n",
       "      <th>Afghanistan</th>\n",
       "      <td>0.396</td>\n",
       "      <td>13500.0</td>\n",
       "    </tr>\n",
       "    <tr>\n",
       "      <th>Albania</th>\n",
       "      <td>0.685</td>\n",
       "      <td>7800.0</td>\n",
       "    </tr>\n",
       "    <tr>\n",
       "      <th>Algeria</th>\n",
       "      <td>0.680</td>\n",
       "      <td>15400.0</td>\n",
       "    </tr>\n",
       "    <tr>\n",
       "      <th>Andorra</th>\n",
       "      <td>NaN</td>\n",
       "      <td>160.0</td>\n",
       "    </tr>\n",
       "    <tr>\n",
       "      <th>Angola</th>\n",
       "      <td>0.426</td>\n",
       "      <td>592000.0</td>\n",
       "    </tr>\n",
       "  </tbody>\n",
       "</table>\n",
       "</div>"
      ],
      "text/plain": [
       "             2004_IDH  2004_Area_f(km²)\n",
       "geo                                    \n",
       "Afghanistan     0.396           13500.0\n",
       "Albania         0.685            7800.0\n",
       "Algeria         0.680           15400.0\n",
       "Andorra           NaN             160.0\n",
       "Angola          0.426          592000.0"
      ]
     },
     "execution_count": 9,
     "metadata": {},
     "output_type": "execute_result"
    }
   ],
   "source": [
    "dados.head()"
   ]
  },
  {
   "cell_type": "code",
   "execution_count": 10,
   "metadata": {},
   "outputs": [],
   "source": [
    "dados1=dados.join(assasinatos_idx, how='inner', lsuffix='_IDH', rsuffix='_Assasinatos')"
   ]
  },
  {
   "cell_type": "markdown",
   "metadata": {},
   "source": [
    "##### DataFrame com todas as variáveis"
   ]
  },
  {
   "cell_type": "code",
   "execution_count": 11,
   "metadata": {},
   "outputs": [
    {
     "data": {
      "text/html": [
       "<div>\n",
       "<style scoped>\n",
       "    .dataframe tbody tr th:only-of-type {\n",
       "        vertical-align: middle;\n",
       "    }\n",
       "\n",
       "    .dataframe tbody tr th {\n",
       "        vertical-align: top;\n",
       "    }\n",
       "\n",
       "    .dataframe thead th {\n",
       "        text-align: right;\n",
       "    }\n",
       "</style>\n",
       "<table border=\"1\" class=\"dataframe\">\n",
       "  <thead>\n",
       "    <tr style=\"text-align: right;\">\n",
       "      <th></th>\n",
       "      <th>2004_IDH</th>\n",
       "      <th>2004_Area_f(km²)</th>\n",
       "      <th>2004_Assasinatos</th>\n",
       "    </tr>\n",
       "    <tr>\n",
       "      <th>geo</th>\n",
       "      <th></th>\n",
       "      <th></th>\n",
       "      <th></th>\n",
       "    </tr>\n",
       "  </thead>\n",
       "  <tbody>\n",
       "    <tr>\n",
       "      <th>Afghanistan</th>\n",
       "      <td>0.396</td>\n",
       "      <td>13500.0</td>\n",
       "      <td>813</td>\n",
       "    </tr>\n",
       "    <tr>\n",
       "      <th>Albania</th>\n",
       "      <td>0.685</td>\n",
       "      <td>7800.0</td>\n",
       "      <td>208</td>\n",
       "    </tr>\n",
       "    <tr>\n",
       "      <th>Algeria</th>\n",
       "      <td>0.680</td>\n",
       "      <td>15400.0</td>\n",
       "      <td>3100</td>\n",
       "    </tr>\n",
       "    <tr>\n",
       "      <th>Angola</th>\n",
       "      <td>0.426</td>\n",
       "      <td>592000.0</td>\n",
       "      <td>6230</td>\n",
       "    </tr>\n",
       "    <tr>\n",
       "      <th>Argentina</th>\n",
       "      <td>0.780</td>\n",
       "      <td>305000.0</td>\n",
       "      <td>2600</td>\n",
       "    </tr>\n",
       "  </tbody>\n",
       "</table>\n",
       "</div>"
      ],
      "text/plain": [
       "             2004_IDH  2004_Area_f(km²)  2004_Assasinatos\n",
       "geo                                                      \n",
       "Afghanistan     0.396           13500.0               813\n",
       "Albania         0.685            7800.0               208\n",
       "Algeria         0.680           15400.0              3100\n",
       "Angola          0.426          592000.0              6230\n",
       "Argentina       0.780          305000.0              2600"
      ]
     },
     "execution_count": 11,
     "metadata": {},
     "output_type": "execute_result"
    }
   ],
   "source": [
    "data = dados1.dropna()\n",
    "data.head()"
   ]
  },
  {
   "cell_type": "markdown",
   "metadata": {},
   "source": [
    "## Salvando em um arquivo CSV"
   ]
  },
  {
   "cell_type": "code",
   "execution_count": 12,
   "metadata": {},
   "outputs": [],
   "source": [
    "data.to_csv(\"Projeto1.csv\")"
   ]
  },
  {
   "cell_type": "markdown",
   "metadata": {},
   "source": [
    "## Salvando em um arquivo XLSX"
   ]
  },
  {
   "cell_type": "code",
   "execution_count": 13,
   "metadata": {},
   "outputs": [],
   "source": [
    "data.to_excel('Projeto1.xlsx',index=True)"
   ]
  },
  {
   "cell_type": "markdown",
   "metadata": {},
   "source": [
    "## Gráficos"
   ]
  },
  {
   "cell_type": "markdown",
   "metadata": {},
   "source": [
    "Definindo função que plota reta por dispersão"
   ]
  },
  {
   "cell_type": "code",
   "execution_count": 14,
   "metadata": {},
   "outputs": [],
   "source": [
    "def reta(dados_x, dados_y, ano, eixox, eixoy):    \n",
    "    a = dados_y.cov(dados_x) / dados_x.var()\n",
    "    b = dados_y.mean() - a*dados_x.mean()\n",
    "\n",
    "    print('Ajuste linear entre ',eixox,'  e ',eixoy,':')\n",
    "    print('Coeficiente linear:', b)\n",
    "    print('Coeficiente angular:', a)\n",
    "\n",
    "    fig = plt.figure(figsize=(8, 6))\n",
    "    plt.scatter(dados_x, dados_y, c='red', alpha=0.8)\n",
    "    plt.title(ano)\n",
    "    plt.xlabel(eixox)\n",
    "    plt.ylabel(eixoy)\n",
    "\n",
    "    plt.plot((dados_x.min(), dados_x.max()), (a*dados_x.min()+b, a*dados_x.max()+b), color='blue')\n",
    "\n",
    "    plt.tight_layout()\n",
    "    plt.show()"
   ]
  },
  {
   "cell_type": "markdown",
   "metadata": {},
   "source": [
    "###### Gráfico Área Florestal por IDH"
   ]
  },
  {
   "cell_type": "markdown",
   "metadata": {},
   "source": [
    "* Gráfico com linha de tendência"
   ]
  },
  {
   "cell_type": "code",
   "execution_count": 15,
   "metadata": {},
   "outputs": [
    {
     "name": "stdout",
     "output_type": "stream",
     "text": [
      "Ajuste linear entre  IDH   e  Área Florestal(km²) :\n",
      "Coeficiente linear: -25045.40564981103\n",
      "Coeficiente angular: 406726.00852894026\n"
     ]
    },
    {
     "data": {
      "image/png": "[encoded data removed]",
      "text/plain": [
       "<Figure size 576x432 with 1 Axes>"
      ]
     },
     "metadata": {},
     "output_type": "display_data"
    }
   ],
   "source": [
    "reta(data[\"2004_IDH\"], data[\"2004_Area_f(km²)\"], '2004', 'IDH', 'Área Florestal(km²)')"
   ]
  },
  {
   "cell_type": "markdown",
   "metadata": {},
   "source": [
    "Este gráfico mostra que há uma linha de tendência na relação entre o IDH e a Área Florestal, e ao observar o gráfico percebe-se que a linha é levemente inclinada para cima"
   ]
  },
  {
   "cell_type": "markdown",
   "metadata": {},
   "source": [
    "* Gráfico Scatter"
   ]
  },
  {
   "cell_type": "code",
   "execution_count": 16,
   "metadata": {},
   "outputs": [
    {
     "data": {
      "text/plain": [
       "<matplotlib.axes._subplots.AxesSubplot at 0x1d252a486a0>"
      ]
     },
     "execution_count": 16,
     "metadata": {},
     "output_type": "execute_result"
    },
    {
     "data": {
      "image/png": "[encoded data removed]",
      "text/plain": [
       "<Figure size 432x288 with 1 Axes>"
      ]
     },
     "metadata": {},
     "output_type": "display_data"
    }
   ],
   "source": [
    "data.plot.scatter(x=\"2004_IDH\", y ='2004_Area_f(km²)')"
   ]
  },
  {
   "cell_type": "markdown",
   "metadata": {},
   "source": [
    "* Gráfico Scatter com vista aproximada para uma determinada área (0 km² - 80.000 km²)"
   ]
  },
  {
   "cell_type": "code",
   "execution_count": 17,
   "metadata": {},
   "outputs": [
    {
     "data": {
      "text/plain": [
       "(0, 80000)"
      ]
     },
     "execution_count": 17,
     "metadata": {},
     "output_type": "execute_result"
    },
    {
     "data": {
      "image/png": "[encoded data removed]",
      "text/plain": [
       "<Figure size 432x288 with 1 Axes>"
      ]
     },
     "metadata": {},
     "output_type": "display_data"
    }
   ],
   "source": [
    "plotando = data.plot.scatter(x ='2004_IDH', y = '2004_Area_f(km²)')\n",
    "plt.ylim((0,80000))"
   ]
  },
  {
   "cell_type": "markdown",
   "metadata": {},
   "source": [
    "* DataFrame que mostra os países com Área Florestal menor que 1000 km² e IDH maior que 0.7."
   ]
  },
  {
   "cell_type": "code",
   "execution_count": 18,
   "metadata": {},
   "outputs": [
    {
     "data": {
      "text/html": [
       "<div>\n",
       "<style scoped>\n",
       "    .dataframe tbody tr th:only-of-type {\n",
       "        vertical-align: middle;\n",
       "    }\n",
       "\n",
       "    .dataframe tbody tr th {\n",
       "        vertical-align: top;\n",
       "    }\n",
       "\n",
       "    .dataframe thead th {\n",
       "        text-align: right;\n",
       "    }\n",
       "</style>\n",
       "<table border=\"1\" class=\"dataframe\">\n",
       "  <thead>\n",
       "    <tr style=\"text-align: right;\">\n",
       "      <th></th>\n",
       "      <th>2004_IDH</th>\n",
       "      <th>2004_Area_f(km²)</th>\n",
       "      <th>2004_Assasinatos</th>\n",
       "    </tr>\n",
       "    <tr>\n",
       "      <th>geo</th>\n",
       "      <th></th>\n",
       "      <th></th>\n",
       "      <th></th>\n",
       "    </tr>\n",
       "  </thead>\n",
       "  <tbody>\n",
       "    <tr>\n",
       "      <th>Bahrain</th>\n",
       "      <td>0.806</td>\n",
       "      <td>4.3</td>\n",
       "      <td>8</td>\n",
       "    </tr>\n",
       "    <tr>\n",
       "      <th>Barbados</th>\n",
       "      <td>0.761</td>\n",
       "      <td>63.0</td>\n",
       "      <td>44</td>\n",
       "    </tr>\n",
       "    <tr>\n",
       "      <th>Dominica</th>\n",
       "      <td>0.703</td>\n",
       "      <td>463.0</td>\n",
       "      <td>7</td>\n",
       "    </tr>\n",
       "    <tr>\n",
       "      <th>Iceland</th>\n",
       "      <td>0.879</td>\n",
       "      <td>350.0</td>\n",
       "      <td>3</td>\n",
       "    </tr>\n",
       "    <tr>\n",
       "      <th>Jordan</th>\n",
       "      <td>0.730</td>\n",
       "      <td>975.0</td>\n",
       "      <td>369</td>\n",
       "    </tr>\n",
       "    <tr>\n",
       "      <th>Kuwait</th>\n",
       "      <td>0.789</td>\n",
       "      <td>54.1</td>\n",
       "      <td>36</td>\n",
       "    </tr>\n",
       "    <tr>\n",
       "      <th>Luxembourg</th>\n",
       "      <td>0.874</td>\n",
       "      <td>867.0</td>\n",
       "      <td>5</td>\n",
       "    </tr>\n",
       "    <tr>\n",
       "      <th>Malta</th>\n",
       "      <td>0.805</td>\n",
       "      <td>3.5</td>\n",
       "      <td>3</td>\n",
       "    </tr>\n",
       "    <tr>\n",
       "      <th>Mauritius</th>\n",
       "      <td>0.704</td>\n",
       "      <td>389.0</td>\n",
       "      <td>33</td>\n",
       "    </tr>\n",
       "    <tr>\n",
       "      <th>Oman</th>\n",
       "      <td>0.742</td>\n",
       "      <td>20.0</td>\n",
       "      <td>51</td>\n",
       "    </tr>\n",
       "    <tr>\n",
       "      <th>Palau</th>\n",
       "      <td>0.756</td>\n",
       "      <td>402.0</td>\n",
       "      <td>0</td>\n",
       "    </tr>\n",
       "    <tr>\n",
       "      <th>Qatar</th>\n",
       "      <td>0.830</td>\n",
       "      <td>0.0</td>\n",
       "      <td>8</td>\n",
       "    </tr>\n",
       "    <tr>\n",
       "      <th>Seychelles</th>\n",
       "      <td>0.712</td>\n",
       "      <td>407.0</td>\n",
       "      <td>3</td>\n",
       "    </tr>\n",
       "    <tr>\n",
       "      <th>Singapore</th>\n",
       "      <td>0.821</td>\n",
       "      <td>164.0</td>\n",
       "      <td>55</td>\n",
       "    </tr>\n",
       "  </tbody>\n",
       "</table>\n",
       "</div>"
      ],
      "text/plain": [
       "            2004_IDH  2004_Area_f(km²)  2004_Assasinatos\n",
       "geo                                                     \n",
       "Bahrain        0.806               4.3                 8\n",
       "Barbados       0.761              63.0                44\n",
       "Dominica       0.703             463.0                 7\n",
       "Iceland        0.879             350.0                 3\n",
       "Jordan         0.730             975.0               369\n",
       "Kuwait         0.789              54.1                36\n",
       "Luxembourg     0.874             867.0                 5\n",
       "Malta          0.805               3.5                 3\n",
       "Mauritius      0.704             389.0                33\n",
       "Oman           0.742              20.0                51\n",
       "Palau          0.756             402.0                 0\n",
       "Qatar          0.830               0.0                 8\n",
       "Seychelles     0.712             407.0                 3\n",
       "Singapore      0.821             164.0                55"
      ]
     },
     "execution_count": 18,
     "metadata": {},
     "output_type": "execute_result"
    }
   ],
   "source": [
    "data[(data['2004_Area_f(km²)'] <= 1000) & (data['2004_IDH'] >= 0.7)]"
   ]
  },
  {
   "cell_type": "markdown",
   "metadata": {},
   "source": [
    "A partir do Gráfico Scatter sem nehnuma área determinada é possível notar que maioria dos países possuem uma ampla área florestal e alto IDH. Ao determinar uma área e plotar outro gráfico Scatter fica claro que área florestal não é ampla e o IDH alto, ou seja, esses países possuem uma área florestal pequena e IDH elevado. Exemplo desses países são: Qatae, Islândia, Luxemburgo, Malta, etc."
   ]
  },
  {
   "cell_type": "markdown",
   "metadata": {},
   "source": [
    "* Gráfico Scatter com vista aproximada para uma determinada área (500.000km² - 800.000 km²)"
   ]
  },
  {
   "cell_type": "code",
   "execution_count": 19,
   "metadata": {},
   "outputs": [
    {
     "data": {
      "text/plain": [
       "(500000, 800000)"
      ]
     },
     "execution_count": 19,
     "metadata": {},
     "output_type": "execute_result"
    },
    {
     "data": {
      "image/png": "[encoded data removed]",
      "text/plain": [
       "<Figure size 432x288 with 1 Axes>"
      ]
     },
     "metadata": {},
     "output_type": "display_data"
    }
   ],
   "source": [
    "plotando = data.plot.scatter(x ='2004_IDH', y = '2004_Area_f(km²)')\n",
    "plt.ylim((500000,800000))"
   ]
  },
  {
   "cell_type": "markdown",
   "metadata": {},
   "source": [
    "* DataFrame que mostra os países com Área Florestal maior que 750000 km² e IDH maior que 0.7."
   ]
  },
  {
   "cell_type": "code",
   "execution_count": 28,
   "metadata": {
    "scrolled": true
   },
   "outputs": [
    {
     "data": {
      "text/html": [
       "<div>\n",
       "<style scoped>\n",
       "    .dataframe tbody tr th:only-of-type {\n",
       "        vertical-align: middle;\n",
       "    }\n",
       "\n",
       "    .dataframe tbody tr th {\n",
       "        vertical-align: top;\n",
       "    }\n",
       "\n",
       "    .dataframe thead th {\n",
       "        text-align: right;\n",
       "    }\n",
       "</style>\n",
       "<table border=\"1\" class=\"dataframe\">\n",
       "  <thead>\n",
       "    <tr style=\"text-align: right;\">\n",
       "      <th></th>\n",
       "      <th>2004_IDH</th>\n",
       "      <th>2004_Area_f(km²)</th>\n",
       "      <th>2004_Assasinatos</th>\n",
       "    </tr>\n",
       "    <tr>\n",
       "      <th>geo</th>\n",
       "      <th></th>\n",
       "      <th></th>\n",
       "      <th></th>\n",
       "    </tr>\n",
       "  </thead>\n",
       "  <tbody>\n",
       "    <tr>\n",
       "      <th>Australia</th>\n",
       "      <td>0.910</td>\n",
       "      <td>1280000.0</td>\n",
       "      <td>253</td>\n",
       "    </tr>\n",
       "    <tr>\n",
       "      <th>Canada</th>\n",
       "      <td>0.886</td>\n",
       "      <td>3480000.0</td>\n",
       "      <td>446</td>\n",
       "    </tr>\n",
       "    <tr>\n",
       "      <th>Russia</th>\n",
       "      <td>0.748</td>\n",
       "      <td>8090000.0</td>\n",
       "      <td>42900</td>\n",
       "    </tr>\n",
       "    <tr>\n",
       "      <th>United States</th>\n",
       "      <td>0.895</td>\n",
       "      <td>3050000.0</td>\n",
       "      <td>17700</td>\n",
       "    </tr>\n",
       "  </tbody>\n",
       "</table>\n",
       "</div>"
      ],
      "text/plain": [
       "               2004_IDH  2004_Area_f(km²)  2004_Assasinatos\n",
       "geo                                                        \n",
       "Australia         0.910         1280000.0               253\n",
       "Canada            0.886         3480000.0               446\n",
       "Russia            0.748         8090000.0             42900\n",
       "United States     0.895         3050000.0             17700"
      ]
     },
     "execution_count": 28,
     "metadata": {},
     "output_type": "execute_result"
    }
   ],
   "source": [
    "data[(data['2004_Area_f(km²)'] >= 750000) & (data['2004_IDH'] >= 0.7)]"
   ]
  },
  {
   "cell_type": "markdown",
   "metadata": {},
   "source": [
    "Ao contrário do que foi possível notar no Scatter e DataFrame anteriores, nestes é evidente que exitem países com área florestal grande e mesmo assim IDH elevado, maiores que 0.7. A Austrália deixa essa fato claro, seu IDH é 0.910 e sua área florestal é de 1.280.000 km², outro país que nos mostra melhor ainda a relação acima é o Canadá, seu IDH é 0.886 e sua área florestal é 3.480.000 km²."
   ]
  },
  {
   "cell_type": "markdown",
   "metadata": {},
   "source": [
    "###### Gráfico Assasinatos por IDH"
   ]
  },
  {
   "cell_type": "markdown",
   "metadata": {},
   "source": [
    "* Gráfico com linha de tendência"
   ]
  },
  {
   "cell_type": "code",
   "execution_count": 21,
   "metadata": {},
   "outputs": [
    {
     "name": "stdout",
     "output_type": "stream",
     "text": [
      "Ajuste linear entre  IDH   e  Assasinatos :\n",
      "Coeficiente linear: 8305.785124647315\n",
      "Coeficiente angular: -7429.604337820575\n"
     ]
    },
    {
     "data": {
      "image/png": "[encoded data removed]",
      "text/plain": [
       "<Figure size 576x432 with 1 Axes>"
      ]
     },
     "metadata": {},
     "output_type": "display_data"
    }
   ],
   "source": [
    "reta(data[\"2004_IDH\"], data[\"2004_Assasinatos\"], '2004', 'IDH', 'Assasinatos')"
   ]
  },
  {
   "cell_type": "markdown",
   "metadata": {},
   "source": [
    "O gráfio com a reta de tendência mostra que a tendência é ter maior IDH e menor total de assasinatos de pessoas."
   ]
  },
  {
   "cell_type": "markdown",
   "metadata": {},
   "source": [
    "* Gráfico Scatter"
   ]
  },
  {
   "cell_type": "code",
   "execution_count": 22,
   "metadata": {},
   "outputs": [
    {
     "data": {
      "image/png": "[encoded data removed]",
      "text/plain": [
       "<Figure size 432x288 with 1 Axes>"
      ]
     },
     "metadata": {},
     "output_type": "display_data"
    }
   ],
   "source": [
    "plot=data.plot.scatter(x= '2004_IDH', y ='2004_Assasinatos')"
   ]
  },
  {
   "cell_type": "markdown",
   "metadata": {},
   "source": [
    "* Gráfico Scatter com total de assasinatos de pessoas determinado (0 - 1000)"
   ]
  },
  {
   "cell_type": "code",
   "execution_count": 23,
   "metadata": {
    "scrolled": true
   },
   "outputs": [
    {
     "data": {
      "text/plain": [
       "(0, 1000)"
      ]
     },
     "execution_count": 23,
     "metadata": {},
     "output_type": "execute_result"
    },
    {
     "data": {
      "image/png": "[encoded data removed]",
      "text/plain": [
       "<Figure size 432x288 with 1 Axes>"
      ]
     },
     "metadata": {},
     "output_type": "display_data"
    }
   ],
   "source": [
    "plotando = data.plot.scatter(x= '2004_IDH', y ='2004_Assasinatos')\n",
    "plt.ylim((0,1000))"
   ]
  },
  {
   "cell_type": "markdown",
   "metadata": {},
   "source": [
    "* DataFrame que mostra os países com um total de assasinatos menor que 100 pessoas e IDH maior que 0.8"
   ]
  },
  {
   "cell_type": "code",
   "execution_count": 24,
   "metadata": {},
   "outputs": [
    {
     "data": {
      "text/html": [
       "<div>\n",
       "<style scoped>\n",
       "    .dataframe tbody tr th:only-of-type {\n",
       "        vertical-align: middle;\n",
       "    }\n",
       "\n",
       "    .dataframe tbody tr th {\n",
       "        vertical-align: top;\n",
       "    }\n",
       "\n",
       "    .dataframe thead th {\n",
       "        text-align: right;\n",
       "    }\n",
       "</style>\n",
       "<table border=\"1\" class=\"dataframe\">\n",
       "  <thead>\n",
       "    <tr style=\"text-align: right;\">\n",
       "      <th></th>\n",
       "      <th>2004_IDH</th>\n",
       "      <th>2004_Area_f(km²)</th>\n",
       "      <th>2004_Assasinatos</th>\n",
       "    </tr>\n",
       "    <tr>\n",
       "      <th>geo</th>\n",
       "      <th></th>\n",
       "      <th></th>\n",
       "      <th></th>\n",
       "    </tr>\n",
       "  </thead>\n",
       "  <tbody>\n",
       "    <tr>\n",
       "      <th>Austria</th>\n",
       "      <td>0.848</td>\n",
       "      <td>38500.0</td>\n",
       "      <td>63</td>\n",
       "    </tr>\n",
       "    <tr>\n",
       "      <th>Bahrain</th>\n",
       "      <td>0.806</td>\n",
       "      <td>4.3</td>\n",
       "      <td>8</td>\n",
       "    </tr>\n",
       "    <tr>\n",
       "      <th>Brunei</th>\n",
       "      <td>0.834</td>\n",
       "      <td>3910.0</td>\n",
       "      <td>4</td>\n",
       "    </tr>\n",
       "    <tr>\n",
       "      <th>Cyprus</th>\n",
       "      <td>0.826</td>\n",
       "      <td>1730.0</td>\n",
       "      <td>2</td>\n",
       "    </tr>\n",
       "    <tr>\n",
       "      <th>Denmark</th>\n",
       "      <td>0.897</td>\n",
       "      <td>5630.0</td>\n",
       "      <td>52</td>\n",
       "    </tr>\n",
       "    <tr>\n",
       "      <th>Greece</th>\n",
       "      <td>0.839</td>\n",
       "      <td>37200.0</td>\n",
       "      <td>97</td>\n",
       "    </tr>\n",
       "    <tr>\n",
       "      <th>Iceland</th>\n",
       "      <td>0.879</td>\n",
       "      <td>350.0</td>\n",
       "      <td>3</td>\n",
       "    </tr>\n",
       "    <tr>\n",
       "      <th>Ireland</th>\n",
       "      <td>0.889</td>\n",
       "      <td>6830.0</td>\n",
       "      <td>30</td>\n",
       "    </tr>\n",
       "    <tr>\n",
       "      <th>Luxembourg</th>\n",
       "      <td>0.874</td>\n",
       "      <td>867.0</td>\n",
       "      <td>5</td>\n",
       "    </tr>\n",
       "    <tr>\n",
       "      <th>Malta</th>\n",
       "      <td>0.805</td>\n",
       "      <td>3.5</td>\n",
       "      <td>3</td>\n",
       "    </tr>\n",
       "    <tr>\n",
       "      <th>New Zealand</th>\n",
       "      <td>0.886</td>\n",
       "      <td>102000.0</td>\n",
       "      <td>55</td>\n",
       "    </tr>\n",
       "    <tr>\n",
       "      <th>Norway</th>\n",
       "      <td>0.929</td>\n",
       "      <td>121000.0</td>\n",
       "      <td>38</td>\n",
       "    </tr>\n",
       "    <tr>\n",
       "      <th>Qatar</th>\n",
       "      <td>0.830</td>\n",
       "      <td>0.0</td>\n",
       "      <td>8</td>\n",
       "    </tr>\n",
       "    <tr>\n",
       "      <th>Singapore</th>\n",
       "      <td>0.821</td>\n",
       "      <td>164.0</td>\n",
       "      <td>55</td>\n",
       "    </tr>\n",
       "    <tr>\n",
       "      <th>Slovenia</th>\n",
       "      <td>0.853</td>\n",
       "      <td>12400.0</td>\n",
       "      <td>41</td>\n",
       "    </tr>\n",
       "    <tr>\n",
       "      <th>Switzerland</th>\n",
       "      <td>0.899</td>\n",
       "      <td>12100.0</td>\n",
       "      <td>68</td>\n",
       "    </tr>\n",
       "    <tr>\n",
       "      <th>United Arab Emirates</th>\n",
       "      <td>0.818</td>\n",
       "      <td>3120.0</td>\n",
       "      <td>19</td>\n",
       "    </tr>\n",
       "  </tbody>\n",
       "</table>\n",
       "</div>"
      ],
      "text/plain": [
       "                      2004_IDH  2004_Area_f(km²)  2004_Assasinatos\n",
       "geo                                                               \n",
       "Austria                  0.848           38500.0                63\n",
       "Bahrain                  0.806               4.3                 8\n",
       "Brunei                   0.834            3910.0                 4\n",
       "Cyprus                   0.826            1730.0                 2\n",
       "Denmark                  0.897            5630.0                52\n",
       "Greece                   0.839           37200.0                97\n",
       "Iceland                  0.879             350.0                 3\n",
       "Ireland                  0.889            6830.0                30\n",
       "Luxembourg               0.874             867.0                 5\n",
       "Malta                    0.805               3.5                 3\n",
       "New Zealand              0.886          102000.0                55\n",
       "Norway                   0.929          121000.0                38\n",
       "Qatar                    0.830               0.0                 8\n",
       "Singapore                0.821             164.0                55\n",
       "Slovenia                 0.853           12400.0                41\n",
       "Switzerland              0.899           12100.0                68\n",
       "United Arab Emirates     0.818            3120.0                19"
      ]
     },
     "execution_count": 24,
     "metadata": {},
     "output_type": "execute_result"
    }
   ],
   "source": [
    "data[(data['2004_Assasinatos'] <= 100) & (data['2004_IDH'] >= 0.8)]"
   ]
  },
  {
   "cell_type": "markdown",
   "metadata": {},
   "source": [
    "Pode-se analisar a partir do DataFrame e gráfico acima que exitem países que o seu total de assasinatos não passa de 100 pessoas e os mesmos possuem um IDH no mínimo 0.8. Alguns desses países são: Nova Zelândia, Irlanda, Islândia, Malta, Emirados Arábes, etc."
   ]
  },
  {
   "cell_type": "markdown",
   "metadata": {},
   "source": [
    "* Gráfico Scatter com total de assasinatos de pessoas no país determinado (1000 - 2000)"
   ]
  },
  {
   "cell_type": "code",
   "execution_count": 25,
   "metadata": {},
   "outputs": [
    {
     "data": {
      "text/plain": [
       "(1000, 2000)"
      ]
     },
     "execution_count": 25,
     "metadata": {},
     "output_type": "execute_result"
    },
    {
     "data": {
      "image/png": "[encoded data removed]",
      "text/plain": [
       "<Figure size 432x288 with 1 Axes>"
      ]
     },
     "metadata": {},
     "output_type": "display_data"
    }
   ],
   "source": [
    "plotando = data.plot.scatter(x= '2004_IDH', y ='2004_Assasinatos')\n",
    "plt.ylim((1000,2000))"
   ]
  },
  {
   "cell_type": "markdown",
   "metadata": {},
   "source": [
    "* DataFrame que mostra os países com um total de assasinatos maior que 1000 pessoas e IDH maior que 0.8"
   ]
  },
  {
   "cell_type": "code",
   "execution_count": 31,
   "metadata": {},
   "outputs": [
    {
     "data": {
      "text/html": [
       "<div>\n",
       "<style scoped>\n",
       "    .dataframe tbody tr th:only-of-type {\n",
       "        vertical-align: middle;\n",
       "    }\n",
       "\n",
       "    .dataframe tbody tr th {\n",
       "        vertical-align: top;\n",
       "    }\n",
       "\n",
       "    .dataframe thead th {\n",
       "        text-align: right;\n",
       "    }\n",
       "</style>\n",
       "<table border=\"1\" class=\"dataframe\">\n",
       "  <thead>\n",
       "    <tr style=\"text-align: right;\">\n",
       "      <th></th>\n",
       "      <th>2004_IDH</th>\n",
       "      <th>2004_Area_f(km²)</th>\n",
       "      <th>2004_Assasinatos</th>\n",
       "    </tr>\n",
       "    <tr>\n",
       "      <th>geo</th>\n",
       "      <th></th>\n",
       "      <th></th>\n",
       "      <th></th>\n",
       "    </tr>\n",
       "  </thead>\n",
       "  <tbody>\n",
       "    <tr>\n",
       "      <th>South Korea</th>\n",
       "      <td>0.852</td>\n",
       "      <td>62600.0</td>\n",
       "      <td>1050</td>\n",
       "    </tr>\n",
       "    <tr>\n",
       "      <th>United Kingdom</th>\n",
       "      <td>0.886</td>\n",
       "      <td>30100.0</td>\n",
       "      <td>1210</td>\n",
       "    </tr>\n",
       "    <tr>\n",
       "      <th>United States</th>\n",
       "      <td>0.895</td>\n",
       "      <td>3050000.0</td>\n",
       "      <td>17700</td>\n",
       "    </tr>\n",
       "  </tbody>\n",
       "</table>\n",
       "</div>"
      ],
      "text/plain": [
       "                2004_IDH  2004_Area_f(km²)  2004_Assasinatos\n",
       "geo                                                         \n",
       "South Korea        0.852           62600.0              1050\n",
       "United Kingdom     0.886           30100.0              1210\n",
       "United States      0.895         3050000.0             17700"
      ]
     },
     "execution_count": 31,
     "metadata": {},
     "output_type": "execute_result"
    }
   ],
   "source": [
    "data[(data['2004_Assasinatos'] >= 1000) & (data['2004_IDH'] >= 0.8)]"
   ]
  },
  {
   "cell_type": "markdown",
   "metadata": {},
   "source": [
    "O DataFrame junto ao gráfico deixam evidente que países com um total de assasinatos elevado consegue mesmo assim ter um alto IDH, os países a seguir deixam isso evidente: Coréia do Sul, Reino Unido e Estados Unidos."
   ]
  },
  {
   "cell_type": "markdown",
   "metadata": {},
   "source": [
    "* DataFrame que mostra os países com um total de assasinatos maior que 1000 pessoas e IDH menor que 0.4."
   ]
  },
  {
   "cell_type": "code",
   "execution_count": 36,
   "metadata": {},
   "outputs": [
    {
     "data": {
      "text/html": [
       "<div>\n",
       "<style scoped>\n",
       "    .dataframe tbody tr th:only-of-type {\n",
       "        vertical-align: middle;\n",
       "    }\n",
       "\n",
       "    .dataframe tbody tr th {\n",
       "        vertical-align: top;\n",
       "    }\n",
       "\n",
       "    .dataframe thead th {\n",
       "        text-align: right;\n",
       "    }\n",
       "</style>\n",
       "<table border=\"1\" class=\"dataframe\">\n",
       "  <thead>\n",
       "    <tr style=\"text-align: right;\">\n",
       "      <th></th>\n",
       "      <th>2004_IDH</th>\n",
       "      <th>2004_Area_f(km²)</th>\n",
       "      <th>2004_Assasinatos</th>\n",
       "    </tr>\n",
       "    <tr>\n",
       "      <th>geo</th>\n",
       "      <th></th>\n",
       "      <th></th>\n",
       "      <th></th>\n",
       "    </tr>\n",
       "  </thead>\n",
       "  <tbody>\n",
       "    <tr>\n",
       "      <th>Burundi</th>\n",
       "      <td>0.286</td>\n",
       "      <td>1840.0</td>\n",
       "      <td>2680</td>\n",
       "    </tr>\n",
       "    <tr>\n",
       "      <th>Central African Republic</th>\n",
       "      <td>0.319</td>\n",
       "      <td>223000.0</td>\n",
       "      <td>1200</td>\n",
       "    </tr>\n",
       "    <tr>\n",
       "      <th>Chad</th>\n",
       "      <td>0.306</td>\n",
       "      <td>61800.0</td>\n",
       "      <td>1860</td>\n",
       "    </tr>\n",
       "    <tr>\n",
       "      <th>Congo, Dem. Rep.</th>\n",
       "      <td>0.355</td>\n",
       "      <td>1560000.0</td>\n",
       "      <td>20100</td>\n",
       "    </tr>\n",
       "    <tr>\n",
       "      <th>Ethiopia</th>\n",
       "      <td>0.325</td>\n",
       "      <td>131000.0</td>\n",
       "      <td>14900</td>\n",
       "    </tr>\n",
       "    <tr>\n",
       "      <th>Guinea</th>\n",
       "      <td>0.346</td>\n",
       "      <td>67600.0</td>\n",
       "      <td>1530</td>\n",
       "    </tr>\n",
       "    <tr>\n",
       "      <th>Malawi</th>\n",
       "      <td>0.371</td>\n",
       "      <td>34400.0</td>\n",
       "      <td>2320</td>\n",
       "    </tr>\n",
       "    <tr>\n",
       "      <th>Mali</th>\n",
       "      <td>0.338</td>\n",
       "      <td>55800.0</td>\n",
       "      <td>2030</td>\n",
       "    </tr>\n",
       "    <tr>\n",
       "      <th>Mozambique</th>\n",
       "      <td>0.341</td>\n",
       "      <td>403000.0</td>\n",
       "      <td>4070</td>\n",
       "    </tr>\n",
       "    <tr>\n",
       "      <th>Niger</th>\n",
       "      <td>0.278</td>\n",
       "      <td>12800.0</td>\n",
       "      <td>2590</td>\n",
       "    </tr>\n",
       "    <tr>\n",
       "      <th>Rwanda</th>\n",
       "      <td>0.388</td>\n",
       "      <td>3770.0</td>\n",
       "      <td>2410</td>\n",
       "    </tr>\n",
       "    <tr>\n",
       "      <th>Sierra Leone</th>\n",
       "      <td>0.341</td>\n",
       "      <td>28400.0</td>\n",
       "      <td>1830</td>\n",
       "    </tr>\n",
       "  </tbody>\n",
       "</table>\n",
       "</div>"
      ],
      "text/plain": [
       "                          2004_IDH  2004_Area_f(km²)  2004_Assasinatos\n",
       "geo                                                                   \n",
       "Burundi                      0.286            1840.0              2680\n",
       "Central African Republic     0.319          223000.0              1200\n",
       "Chad                         0.306           61800.0              1860\n",
       "Congo, Dem. Rep.             0.355         1560000.0             20100\n",
       "Ethiopia                     0.325          131000.0             14900\n",
       "Guinea                       0.346           67600.0              1530\n",
       "Malawi                       0.371           34400.0              2320\n",
       "Mali                         0.338           55800.0              2030\n",
       "Mozambique                   0.341          403000.0              4070\n",
       "Niger                        0.278           12800.0              2590\n",
       "Rwanda                       0.388            3770.0              2410\n",
       "Sierra Leone                 0.341           28400.0              1830"
      ]
     },
     "execution_count": 36,
     "metadata": {},
     "output_type": "execute_result"
    }
   ],
   "source": [
    "data[(data['2004_Assasinatos'] >= 1000) & (data['2004_IDH'] <= 0.4)]"
   ]
  },
  {
   "cell_type": "markdown",
   "metadata": {},
   "source": [
    "O DataFrame acima  nos mostra que há vários países que possuem IDH baixo, menores ou igual a 0.4, mas não é uma qunatidade absurda."
   ]
  },
  {
   "cell_type": "markdown",
   "metadata": {},
   "source": [
    "## Taxa de Correlação"
   ]
  },
  {
   "cell_type": "code",
   "execution_count": 30,
   "metadata": {},
   "outputs": [
    {
     "data": {
      "text/html": [
       "<div>\n",
       "<style scoped>\n",
       "    .dataframe tbody tr th:only-of-type {\n",
       "        vertical-align: middle;\n",
       "    }\n",
       "\n",
       "    .dataframe tbody tr th {\n",
       "        vertical-align: top;\n",
       "    }\n",
       "\n",
       "    .dataframe thead th {\n",
       "        text-align: right;\n",
       "    }\n",
       "</style>\n",
       "<table border=\"1\" class=\"dataframe\">\n",
       "  <thead>\n",
       "    <tr style=\"text-align: right;\">\n",
       "      <th></th>\n",
       "      <th>2004_IDH</th>\n",
       "      <th>2004_Area_f(km²)</th>\n",
       "      <th>2004_Assasinatos</th>\n",
       "    </tr>\n",
       "  </thead>\n",
       "  <tbody>\n",
       "    <tr>\n",
       "      <th>2004_IDH</th>\n",
       "      <td>1.000000</td>\n",
       "      <td>0.081707</td>\n",
       "      <td>-0.139659</td>\n",
       "    </tr>\n",
       "    <tr>\n",
       "      <th>2004_Area_f(km²)</th>\n",
       "      <td>0.081707</td>\n",
       "      <td>1.000000</td>\n",
       "      <td>0.617811</td>\n",
       "    </tr>\n",
       "    <tr>\n",
       "      <th>2004_Assasinatos</th>\n",
       "      <td>-0.139659</td>\n",
       "      <td>0.617811</td>\n",
       "      <td>1.000000</td>\n",
       "    </tr>\n",
       "  </tbody>\n",
       "</table>\n",
       "</div>"
      ],
      "text/plain": [
       "                  2004_IDH  2004_Area_f(km²)  2004_Assasinatos\n",
       "2004_IDH          1.000000          0.081707         -0.139659\n",
       "2004_Area_f(km²)  0.081707          1.000000          0.617811\n",
       "2004_Assasinatos -0.139659          0.617811          1.000000"
      ]
     },
     "execution_count": 30,
     "metadata": {},
     "output_type": "execute_result"
    }
   ],
   "source": [
    "data.corr()"
   ]
  },
  {
   "cell_type": "markdown",
   "metadata": {},
   "source": [
    "## Retomando as perguntas:\n",
    "- #### Um país precisa ter uma menor área florestal para ter alto IDH?\n",
    "* ####  O IDH será sempre baixo caso o número de assasinatos sejam altos?"
   ]
  },
  {
   "cell_type": "markdown",
   "metadata": {},
   "source": [
    "## Conclusão\n",
    "\n",
    "Com a análise exploratória realizada pode-seresponder as perguntas. Para a primeira pergunta, pode-se dizer não necessariamente um país precisa de uma menor área florestal para ter alto IDH, como estes países, Austrália e Canadá, mostraram. Com isso, conclui-se que existe sim uma relação entre área florestal e IDH, esta vale para a maior parte dos países, que é quanto menor a área florestal, maior o IDH.\n",
    "\n"
   ]
  },
  {
   "cell_type": "markdown",
   "metadata": {},
   "source": [
    "Para a segunda pergunta a resposta é não, como foi possível observar na análise. Esta pergunta leva as eguinte conclusão, que existem países com baixo IDH e alto índice de totsl de assasinatos de pessoas, mas não como o esperado, os países que apresentam essa característica são a minoria. Enquanto que países como Coréia do Sul, Reino Unido, Estados Unidos possuem IDH elevado e também elevado índice de total de assasinatos de pessoas.\n"
   ]
  },
  {
   "cell_type": "markdown",
   "metadata": {},
   "source": [
    "## Bibliografia:\n",
    "\n",
    "- Dados:\n",
    "https://www.gapminder.org/data/\n",
    "- Join:\n",
    "https://pandas.pydata.org/pandas-docs/stable/generated/pandas.DataFrame.join.html\n",
    "- DropNa:\n",
    "https://pandas.pydata.org/pandas-docs/stable/generated/pandas.DataFrame.dropna.html\n",
    "- Aula 1\n",
    "- Aula 2\n",
    "- Aula 3\n",
    "- Tutorial\n",
    "- Pesquisa:\n",
    "https://www.infoescola.com/geografia/paises-desenvolvidos/"
   ]
  }
 ],
 "metadata": {
  "kernelspec": {
   "display_name": "Python 3",
   "language": "python",
   "name": "python3"
  },
  "language_info": {
   "codemirror_mode": {
    "name": "ipython",
    "version": 3
   },
   "file_extension": ".py",
   "mimetype": "text/x-python",
   "name": "python",
   "nbconvert_exporter": "python",
   "pygments_lexer": "ipython3",
   "version": "3.6.5"
  }
 },
 "nbformat": 4,
 "nbformat_minor": 2
}
